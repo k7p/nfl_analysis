{
 "cells": [
  {
   "cell_type": "markdown",
   "metadata": {},
   "source": [
    "### The Garoppolo Effect: Exploring NFL Data using Python"
   ]
  },
  {
   "cell_type": "markdown",
   "metadata": {},
   "source": [
    "Jimmy Garoppolo just signed the largest contract in NFL history with the San Francisco 49ers. He started 5 games for them after being traded midseason and led the 49ers to wins in all of these games.\n",
    "\n",
    "I wanted to explore how the 49ers team changed after Garoppolo was traded and understand a bit more about how he helped the team. For this analysis, I used a dataset about 2017 NFL plays. You can get the data using NFL scrapeR, which was created by ( https://github.com/maksimhorowitz/nflscrapR ). I used this tool to download NFL play by play data for 2017 and have included a direct link to where the 2017 NFL data can be downloaded ( https://raw.githubusercontent.com/ryurko/nflscrapR-data/master/data/season_play_by_play/pbp_2017.csv ).\n",
    "\n",
    "For our purposes, we are just going to focus on the 49ers data for the 2017 season, and this is a walkthrough about how to do that. I have included some comments within the code to help you follow along. Since Jimmy Garoppolo only started 5 games for the 49ers, these plots will not all have a similar number of observations, but let's see what interesting things we can learn."
   ]
  },
  {
   "cell_type": "code",
   "execution_count": 1,
   "metadata": {
    "collapsed": true
   },
   "outputs": [],
   "source": [
    "import pandas as pd\n",
    "import numpy as np\n",
    "import datetime as dt\n",
    "\n",
    "import matplotlib.pyplot as plt\n",
    "from matplotlib import cm\n",
    "plt.style.use('ggplot')\n",
    "\n",
    "%matplotlib inline\n",
    "\n",
    "from __future__ import division"
   ]
  },
  {
   "cell_type": "code",
   "execution_count": 2,
   "metadata": {
    "collapsed": true
   },
   "outputs": [],
   "source": [
    "nfl = pd.read_csv('https://raw.githubusercontent.com/ryurko/nflscrapR-data/master/data/season_play_by_play/pbp_2017.csv', low_memory=False)"
   ]
  },
  {
   "cell_type": "markdown",
   "metadata": {},
   "source": [
    "Take a look at the dimensions of the data."
   ]
  },
  {
   "cell_type": "code",
   "execution_count": 3,
   "metadata": {},
   "outputs": [
    {
     "data": {
      "text/plain": [
       "(45241, 102)"
      ]
     },
     "execution_count": 3,
     "metadata": {},
     "output_type": "execute_result"
    }
   ],
   "source": [
    "nfl.shape"
   ]
  },
  {
   "cell_type": "markdown",
   "metadata": {},
   "source": [
    "Because we want to compare how the team performed before and after the trade, we can add an additional column that indicates that a date was before or after the date when Jimmy Garoppolo started a game for the 49ers. Doing this will allow us to compare the data before and after as we can check for the value of the variable called Jimmy. "
   ]
  },
  {
   "cell_type": "markdown",
   "metadata": {},
   "source": [
    "First, we convert the date column to datetime format so that we can compare them with a date that we want to check against."
   ]
  },
  {
   "cell_type": "code",
   "execution_count": 4,
   "metadata": {
    "collapsed": true
   },
   "outputs": [],
   "source": [
    "nfl['Date'] = pd.to_datetime(nfl['Date'])"
   ]
  },
  {
   "cell_type": "markdown",
   "metadata": {},
   "source": [
    "Then we can create a column called Jimmy that is yes if the game date is on or after December 3rd, 2017 and is no otherwise."
   ]
  },
  {
   "cell_type": "code",
   "execution_count": 5,
   "metadata": {
    "collapsed": true
   },
   "outputs": [],
   "source": [
    "nfl['Jimmy'] = np.where( nfl['Date']>=pd.datetime(2017,12,3), 'yes', 'no')"
   ]
  },
  {
   "cell_type": "markdown",
   "metadata": {},
   "source": [
    "Now if we check our nfl dataframe, we will see that the last column is now Jimmy."
   ]
  },
  {
   "cell_type": "code",
   "execution_count": 6,
   "metadata": {},
   "outputs": [
    {
     "data": {
      "text/html": [
       "<div>\n",
       "<style scoped>\n",
       "    .dataframe tbody tr th:only-of-type {\n",
       "        vertical-align: middle;\n",
       "    }\n",
       "\n",
       "    .dataframe tbody tr th {\n",
       "        vertical-align: top;\n",
       "    }\n",
       "\n",
       "    .dataframe thead th {\n",
       "        text-align: right;\n",
       "    }\n",
       "</style>\n",
       "<table border=\"1\" class=\"dataframe\">\n",
       "  <thead>\n",
       "    <tr style=\"text-align: right;\">\n",
       "      <th></th>\n",
       "      <th>Date</th>\n",
       "      <th>GameID</th>\n",
       "      <th>Drive</th>\n",
       "      <th>qtr</th>\n",
       "      <th>down</th>\n",
       "      <th>time</th>\n",
       "      <th>TimeUnder</th>\n",
       "      <th>TimeSecs</th>\n",
       "      <th>PlayTimeDiff</th>\n",
       "      <th>SideofField</th>\n",
       "      <th>...</th>\n",
       "      <th>Home_WP_pre</th>\n",
       "      <th>Away_WP_pre</th>\n",
       "      <th>Home_WP_post</th>\n",
       "      <th>Away_WP_post</th>\n",
       "      <th>Win_Prob</th>\n",
       "      <th>WPA</th>\n",
       "      <th>airWPA</th>\n",
       "      <th>yacWPA</th>\n",
       "      <th>Season</th>\n",
       "      <th>Jimmy</th>\n",
       "    </tr>\n",
       "  </thead>\n",
       "  <tbody>\n",
       "    <tr>\n",
       "      <th>0</th>\n",
       "      <td>2017-09-07</td>\n",
       "      <td>2017090700</td>\n",
       "      <td>1</td>\n",
       "      <td>1</td>\n",
       "      <td>NaN</td>\n",
       "      <td>15:00</td>\n",
       "      <td>15</td>\n",
       "      <td>3600.0</td>\n",
       "      <td>0.0</td>\n",
       "      <td>KC</td>\n",
       "      <td>...</td>\n",
       "      <td>0.500007</td>\n",
       "      <td>0.499993</td>\n",
       "      <td>0.506018</td>\n",
       "      <td>0.493982</td>\n",
       "      <td>0.500007</td>\n",
       "      <td>0.006011</td>\n",
       "      <td>NaN</td>\n",
       "      <td>NaN</td>\n",
       "      <td>2017</td>\n",
       "      <td>no</td>\n",
       "    </tr>\n",
       "    <tr>\n",
       "      <th>1</th>\n",
       "      <td>2017-09-07</td>\n",
       "      <td>2017090700</td>\n",
       "      <td>1</td>\n",
       "      <td>1</td>\n",
       "      <td>1.0</td>\n",
       "      <td>14:55</td>\n",
       "      <td>15</td>\n",
       "      <td>3595.0</td>\n",
       "      <td>5.0</td>\n",
       "      <td>NE</td>\n",
       "      <td>...</td>\n",
       "      <td>0.506018</td>\n",
       "      <td>0.493982</td>\n",
       "      <td>0.484055</td>\n",
       "      <td>0.515945</td>\n",
       "      <td>0.506018</td>\n",
       "      <td>-0.021963</td>\n",
       "      <td>0.068249</td>\n",
       "      <td>-0.090213</td>\n",
       "      <td>2017</td>\n",
       "      <td>no</td>\n",
       "    </tr>\n",
       "    <tr>\n",
       "      <th>2</th>\n",
       "      <td>2017-09-07</td>\n",
       "      <td>2017090700</td>\n",
       "      <td>1</td>\n",
       "      <td>1</td>\n",
       "      <td>2.0</td>\n",
       "      <td>14:49</td>\n",
       "      <td>15</td>\n",
       "      <td>3589.0</td>\n",
       "      <td>6.0</td>\n",
       "      <td>NE</td>\n",
       "      <td>...</td>\n",
       "      <td>0.484055</td>\n",
       "      <td>0.515945</td>\n",
       "      <td>0.510010</td>\n",
       "      <td>0.489990</td>\n",
       "      <td>0.484055</td>\n",
       "      <td>0.025955</td>\n",
       "      <td>-0.024329</td>\n",
       "      <td>0.050284</td>\n",
       "      <td>2017</td>\n",
       "      <td>no</td>\n",
       "    </tr>\n",
       "    <tr>\n",
       "      <th>3</th>\n",
       "      <td>2017-09-07</td>\n",
       "      <td>2017090700</td>\n",
       "      <td>1</td>\n",
       "      <td>1</td>\n",
       "      <td>3.0</td>\n",
       "      <td>14:14</td>\n",
       "      <td>15</td>\n",
       "      <td>3554.0</td>\n",
       "      <td>35.0</td>\n",
       "      <td>NE</td>\n",
       "      <td>...</td>\n",
       "      <td>0.510010</td>\n",
       "      <td>0.489990</td>\n",
       "      <td>0.552982</td>\n",
       "      <td>0.447018</td>\n",
       "      <td>0.510010</td>\n",
       "      <td>0.042972</td>\n",
       "      <td>NaN</td>\n",
       "      <td>NaN</td>\n",
       "      <td>2017</td>\n",
       "      <td>no</td>\n",
       "    </tr>\n",
       "    <tr>\n",
       "      <th>4</th>\n",
       "      <td>2017-09-07</td>\n",
       "      <td>2017090700</td>\n",
       "      <td>1</td>\n",
       "      <td>1</td>\n",
       "      <td>1.0</td>\n",
       "      <td>13:52</td>\n",
       "      <td>14</td>\n",
       "      <td>3532.0</td>\n",
       "      <td>22.0</td>\n",
       "      <td>NE</td>\n",
       "      <td>...</td>\n",
       "      <td>0.552982</td>\n",
       "      <td>0.447018</td>\n",
       "      <td>0.546975</td>\n",
       "      <td>0.453025</td>\n",
       "      <td>0.552982</td>\n",
       "      <td>-0.006007</td>\n",
       "      <td>NaN</td>\n",
       "      <td>NaN</td>\n",
       "      <td>2017</td>\n",
       "      <td>no</td>\n",
       "    </tr>\n",
       "  </tbody>\n",
       "</table>\n",
       "<p>5 rows × 103 columns</p>\n",
       "</div>"
      ],
      "text/plain": [
       "        Date      GameID  Drive  qtr  down   time  TimeUnder  TimeSecs  \\\n",
       "0 2017-09-07  2017090700      1    1   NaN  15:00         15    3600.0   \n",
       "1 2017-09-07  2017090700      1    1   1.0  14:55         15    3595.0   \n",
       "2 2017-09-07  2017090700      1    1   2.0  14:49         15    3589.0   \n",
       "3 2017-09-07  2017090700      1    1   3.0  14:14         15    3554.0   \n",
       "4 2017-09-07  2017090700      1    1   1.0  13:52         14    3532.0   \n",
       "\n",
       "   PlayTimeDiff SideofField  ...    Home_WP_pre  Away_WP_pre  Home_WP_post  \\\n",
       "0           0.0          KC  ...       0.500007     0.499993      0.506018   \n",
       "1           5.0          NE  ...       0.506018     0.493982      0.484055   \n",
       "2           6.0          NE  ...       0.484055     0.515945      0.510010   \n",
       "3          35.0          NE  ...       0.510010     0.489990      0.552982   \n",
       "4          22.0          NE  ...       0.552982     0.447018      0.546975   \n",
       "\n",
       "   Away_WP_post  Win_Prob       WPA    airWPA    yacWPA Season  Jimmy  \n",
       "0      0.493982  0.500007  0.006011       NaN       NaN   2017     no  \n",
       "1      0.515945  0.506018 -0.021963  0.068249 -0.090213   2017     no  \n",
       "2      0.489990  0.484055  0.025955 -0.024329  0.050284   2017     no  \n",
       "3      0.447018  0.510010  0.042972       NaN       NaN   2017     no  \n",
       "4      0.453025  0.552982 -0.006007       NaN       NaN   2017     no  \n",
       "\n",
       "[5 rows x 103 columns]"
      ]
     },
     "execution_count": 6,
     "metadata": {},
     "output_type": "execute_result"
    }
   ],
   "source": [
    "nfl.head()"
   ]
  },
  {
   "cell_type": "markdown",
   "metadata": {},
   "source": [
    "We can obtain 49ers specific data from the 2017 NFL data by subsetting the NFL data such that the home or away team is the SF 49ers."
   ]
  },
  {
   "cell_type": "code",
   "execution_count": 7,
   "metadata": {
    "collapsed": true
   },
   "outputs": [],
   "source": [
    "niners = nfl[ (nfl[\"HomeTeam\"] == 'SF') | (nfl[\"AwayTeam\"] == 'SF') ]"
   ]
  },
  {
   "cell_type": "markdown",
   "metadata": {},
   "source": [
    "Next, we can look into touchdowns scored. To check touchdown information, we can check that the home or away team is SF, a scoring play occurred, a touchdown occurred, the team on offense was SF, and there was no interceptor, who is a player who intercepted the ball."
   ]
  },
  {
   "cell_type": "code",
   "execution_count": 8,
   "metadata": {
    "collapsed": true
   },
   "outputs": [],
   "source": [
    "niners_td = nfl[((nfl[\"HomeTeam\"] == 'SF') | (nfl[\"AwayTeam\"] == 'SF')) \n",
    "             & (nfl[\"sp\"] == 1) & (nfl[\"Touchdown\"] == 1) & (nfl[\"DefensiveTeam\"] != 'SF') & pd.isnull(nfl[\"Interceptor\"]) ]"
   ]
  },
  {
   "cell_type": "markdown",
   "metadata": {},
   "source": [
    "And we get 31 touchdowns for the season."
   ]
  },
  {
   "cell_type": "code",
   "execution_count": 9,
   "metadata": {},
   "outputs": [
    {
     "data": {
      "text/plain": [
       "31"
      ]
     },
     "execution_count": 9,
     "metadata": {},
     "output_type": "execute_result"
    }
   ],
   "source": [
    "len(niners_td)"
   ]
  },
  {
   "cell_type": "markdown",
   "metadata": {},
   "source": [
    "Now we can check how many touchdowns were scored without Jimmy and with him by subsetting our dataframe."
   ]
  },
  {
   "cell_type": "code",
   "execution_count": 10,
   "metadata": {},
   "outputs": [
    {
     "name": "stdout",
     "output_type": "stream",
     "text": [
      "18\n",
      "13\n"
     ]
    }
   ],
   "source": [
    "print len( niners_td[niners_td['Jimmy'] == 'no'] )\n",
    "print len( niners_td[niners_td['Jimmy'] == 'yes'] )"
   ]
  },
  {
   "cell_type": "markdown",
   "metadata": {},
   "source": [
    "Alternatively, we can also group by the Jimmy variable and check the same result like so:"
   ]
  },
  {
   "cell_type": "code",
   "execution_count": 11,
   "metadata": {},
   "outputs": [
    {
     "data": {
      "text/plain": [
       "Jimmy\n",
       "no     18\n",
       "yes    13\n",
       "Name: Touchdown, dtype: int64"
      ]
     },
     "execution_count": 11,
     "metadata": {},
     "output_type": "execute_result"
    }
   ],
   "source": [
    "niners_td.groupby('Jimmy').Touchdown.sum()"
   ]
  },
  {
   "cell_type": "markdown",
   "metadata": {},
   "source": [
    "Now let's graph the number of touchdowns scored while Jimmy started and did not start games."
   ]
  },
  {
   "cell_type": "code",
   "execution_count": 12,
   "metadata": {},
   "outputs": [
    {
     "data": {
      "image/png": "[encoded data removed]",
      "text/plain": [
       "<matplotlib.figure.Figure at 0x10fdf5b10>"
      ]
     },
     "metadata": {},
     "output_type": "display_data"
    }
   ],
   "source": [
    "tds = niners_td.groupby('Jimmy').Touchdown.sum() # score the touchdown information in tds\n",
    "\n",
    "fig, ax = plt.subplots(figsize=(8, 6), dpi = 72) # Get access to the figure and axes to modify their attributes later\n",
    "\n",
    "ax.set_title(\"Total Number of Touchdowns\", fontsize = 18) # Chart title\n",
    "ax.set_xlabel('Jimmy', fontsize = 15) # X-axis label\n",
    "ax.set_ylabel('Number of Touchdowns', fontsize = 15) # Y-axis label\n",
    "plt.xticks(fontsize = 13)\n",
    "plt.yticks(fontsize = 13)\n",
    "\n",
    "mycolors = ['#A6192E', '#85714D'] # Using scarlet and gold colors\n",
    "\n",
    "tds.plot(kind='bar', alpha = 0.9, rot=0, color = mycolors) # Plot a Bar chart\n",
    "plt.show()"
   ]
  },
  {
   "cell_type": "markdown",
   "metadata": {},
   "source": [
    "While this plot is nice, we should also check the number of touchdowns per game since Jimmy only played in 5 games."
   ]
  },
  {
   "cell_type": "code",
   "execution_count": 13,
   "metadata": {},
   "outputs": [
    {
     "name": "stdout",
     "output_type": "stream",
     "text": [
      "11\n"
     ]
    }
   ],
   "source": [
    "# get the unique number of games Jimmy did not play in\n",
    "pre_number = len( niners[niners['Jimmy'] == 'no']['GameID'].unique() )\n",
    "print pre_number"
   ]
  },
  {
   "cell_type": "code",
   "execution_count": 14,
   "metadata": {},
   "outputs": [
    {
     "name": "stdout",
     "output_type": "stream",
     "text": [
      "5\n"
     ]
    }
   ],
   "source": [
    "# get the unique number of games that Jimmy did play in\n",
    "post_number = len( niners[niners['Jimmy'] == 'yes']['GameID'].unique() )\n",
    "print post_number"
   ]
  },
  {
   "cell_type": "code",
   "execution_count": 15,
   "metadata": {},
   "outputs": [
    {
     "name": "stdout",
     "output_type": "stream",
     "text": [
      "Before Jimmy, the amount of touchdowns per game was 1.64\n",
      "After Jimmy, the amount of touchdowns per game was 2.60\n"
     ]
    }
   ],
   "source": [
    "print \"Before Jimmy, the amount of touchdowns per game was %.2f\" % (18/pre_number)\n",
    "print \"After Jimmy, the amount of touchdowns per game was %.2f\" % (13/post_number)"
   ]
  },
  {
   "cell_type": "markdown",
   "metadata": {},
   "source": [
    "We can see that the 49ers scored approximately 1 more touchdown per game when Jimmy Garoppolo started. This does not mean that he was responsible for every touchdown scored when he played, but this just shows the number of touchdowns that were scored when he played."
   ]
  },
  {
   "cell_type": "markdown",
   "metadata": {},
   "source": [
    "### Touchdowns and Interceptions over Time"
   ]
  },
  {
   "cell_type": "markdown",
   "metadata": {},
   "source": [
    "To get a different point of view about the touchdown situation, we can take a time-series approach where we take a look at the number of touchdowns and interceptions over time. We can mark off the point in time at which Garoppolo started games and see what changes we can observe."
   ]
  },
  {
   "cell_type": "code",
   "execution_count": 16,
   "metadata": {
    "collapsed": true
   },
   "outputs": [],
   "source": [
    "# get sum of touchdowns by game day\n",
    "td_by_date = niners.groupby('Date')['Touchdown'].sum()\n",
    "td_by_date;"
   ]
  },
  {
   "cell_type": "code",
   "execution_count": 17,
   "metadata": {
    "collapsed": true
   },
   "outputs": [],
   "source": [
    "# get sum of interceptions by game day\n",
    "inter_by_date = niners.groupby('Date')['InterceptionThrown'].sum()\n",
    "inter_by_date;"
   ]
  },
  {
   "cell_type": "code",
   "execution_count": 18,
   "metadata": {},
   "outputs": [
    {
     "data": {
      "image/png": "[encoded data removed]",
      "text/plain": [
       "<matplotlib.figure.Figure at 0x1172ef790>"
      ]
     },
     "metadata": {},
     "output_type": "display_data"
    }
   ],
   "source": [
    "fig, ax = plt.subplots(figsize=(8, 6), dpi = 80) # set plot size \n",
    "\n",
    "mycolors = ['#A6192E', '#85714D'] # Using scarlet and gold colors\n",
    "\n",
    "f1 = td_by_date.plot(color = mycolors[0]) # plot the touchdowns\n",
    "f2 = inter_by_date.plot(color = mycolors[1]) # plot the interceptions\n",
    "\n",
    "ax.set_title(\"Touchdowns and Interceptions over Time\", fontsize = 18) # Chart title\n",
    "ax.set_xlabel('Game Date', fontsize = 15) # X-axis label\n",
    "ax.set_ylabel('Count', fontsize = 15) # Y-axis label\n",
    "plt.xticks(fontsize = 12)\n",
    "plt.yticks(fontsize = 12)\n",
    "\n",
    "plt.axvline(dt.datetime(2017, 12, 3), color = 'black') # add a vertical line\n",
    "plt.legend(loc='upper center', frameon=True, facecolor=\"white\") # add a legend with a white background\n",
    "\n",
    "plt.show()"
   ]
  },
  {
   "cell_type": "markdown",
   "metadata": {},
   "source": [
    "The lines to the right of the black vertical line are games that Jimmy started. We notice that before he started for the 49ers, they were on a downward trend in terms of the number of touchdowns scored, and after he started, their offense started taking off again."
   ]
  },
  {
   "cell_type": "markdown",
   "metadata": {},
   "source": [
    "### Comparison of Different Play Types"
   ]
  },
  {
   "cell_type": "markdown",
   "metadata": {},
   "source": [
    "To compare different playtypes, we use the niners dataframe and not the niners_td dataframe defined above because we are concerned with overall plays in the game and not just the plays that occur when the 49ers are on offense. "
   ]
  },
  {
   "cell_type": "code",
   "execution_count": 24,
   "metadata": {
    "scrolled": true
   },
   "outputs": [
    {
     "data": {
      "image/png": "[encoded data removed]",
      "text/plain": [
       "<matplotlib.figure.Figure at 0x111759790>"
      ]
     },
     "metadata": {},
     "output_type": "display_data"
    }
   ],
   "source": [
    "fig, ax = plt.subplots(2, 1, figsize=(10, 8), dpi = 85) # specify a plot with 2 rows and 1 column\n",
    "\n",
    "# get plays where Jimmy did not start and did start\n",
    "f1 = niners[niners['Jimmy']=='no']['PlayType'].value_counts().plot(kind='barh', ax=ax[0]) \n",
    "f2 = niners[niners['Jimmy']=='yes']['PlayType'].value_counts().plot(kind='barh', ax=ax[1])\n",
    "\n",
    "f1.set(title = \"Before Jimmy's Starts\", xlabel='Count', ylabel='Play Type')\n",
    "f2.set(title = \"After Jimmy's Starts\", xlabel='Count', ylabel='Play Type')\n",
    "f1.set_xlim(0,805)\n",
    "f2.set_xlim(0,805)\n",
    "fig.tight_layout() # prevent overlapping axis labels\n",
    "\n",
    "plt.show()"
   ]
  },
  {
   "cell_type": "markdown",
   "metadata": {},
   "source": [
    "There are a different number of games and therefore count of plays, of course, but if we use the colors in both plots to match up which play was most frequent, we see that in both graphs, the most common plays were Pass, Run, and Kickoff, but then we notice that punts were more common before Jimmy started whereas field goals were more common after Jimmy started. This could indicate that Jimmy's play could have helped the 49ers get closer to scoring position and the chance to score more field goals."
   ]
  },
  {
   "cell_type": "markdown",
   "metadata": {},
   "source": [
    "### Lastly, let's dive deeper into the data about the 49ers offense."
   ]
  },
  {
   "cell_type": "markdown",
   "metadata": {},
   "source": [
    "Let's take a look at the top plays in terms of yards gained when the 49ers were on offense. As before, we will subset our data to obtain data when the 49ers are on offense."
   ]
  },
  {
   "cell_type": "code",
   "execution_count": 20,
   "metadata": {
    "collapsed": true
   },
   "outputs": [],
   "source": [
    "niners_offense = nfl[((nfl[\"HomeTeam\"] == 'SF') | (nfl[\"AwayTeam\"] == 'SF')) \n",
    "                     & (nfl[\"DefensiveTeam\"] != 'SF') ] "
   ]
  },
  {
   "cell_type": "markdown",
   "metadata": {},
   "source": [
    "We can create a new dataframe called most_yards that takes the 50 observations where the 49ers offense gained the most amount of yards."
   ]
  },
  {
   "cell_type": "code",
   "execution_count": 21,
   "metadata": {
    "collapsed": true
   },
   "outputs": [],
   "source": [
    "most_yards = niners_offense.sort_values(by='Yards.Gained', ascending=False)[:50]"
   ]
  },
  {
   "cell_type": "code",
   "execution_count": 22,
   "metadata": {},
   "outputs": [
    {
     "data": {
      "text/plain": [
       "Jimmy  Jimmy\n",
       "no     no       30\n",
       "yes    yes      20\n",
       "Name: Jimmy, dtype: int64"
      ]
     },
     "execution_count": 22,
     "metadata": {},
     "output_type": "execute_result"
    }
   ],
   "source": [
    "most_yards.groupby(\"Jimmy\").Jimmy.value_counts()"
   ]
  },
  {
   "cell_type": "markdown",
   "metadata": {},
   "source": [
    "We can see that 20 of these 50 top plays by yards gained occurred when Jimmy started, but since the number of the occurrences differ, we will look at overall values instead of separating the plots as before since these different observations can lead to a varying number of bars in bar plots for instance."
   ]
  },
  {
   "cell_type": "code",
   "execution_count": 23,
   "metadata": {},
   "outputs": [
    {
     "data": {
      "text/html": [
       "<div>\n",
       "<style scoped>\n",
       "    .dataframe tbody tr th:only-of-type {\n",
       "        vertical-align: middle;\n",
       "    }\n",
       "\n",
       "    .dataframe tbody tr th {\n",
       "        vertical-align: top;\n",
       "    }\n",
       "\n",
       "    .dataframe thead th {\n",
       "        text-align: right;\n",
       "    }\n",
       "</style>\n",
       "<table border=\"1\" class=\"dataframe\">\n",
       "  <thead>\n",
       "    <tr style=\"text-align: right;\">\n",
       "      <th></th>\n",
       "      <th>Date</th>\n",
       "      <th>PlayType</th>\n",
       "      <th>Yards.Gained</th>\n",
       "      <th>qtr</th>\n",
       "      <th>desc</th>\n",
       "      <th>Rusher</th>\n",
       "      <th>Receiver</th>\n",
       "      <th>Jimmy</th>\n",
       "    </tr>\n",
       "  </thead>\n",
       "  <tbody>\n",
       "    <tr>\n",
       "      <th>25449</th>\n",
       "      <td>2017-11-12</td>\n",
       "      <td>Pass</td>\n",
       "      <td>83</td>\n",
       "      <td>2</td>\n",
       "      <td>(8:10) C.Beathard pass deep middle to M.Goodwi...</td>\n",
       "      <td>NaN</td>\n",
       "      <td>M.Goodwin</td>\n",
       "      <td>no</td>\n",
       "    </tr>\n",
       "    <tr>\n",
       "      <th>32892</th>\n",
       "      <td>2017-12-03</td>\n",
       "      <td>Punt</td>\n",
       "      <td>67</td>\n",
       "      <td>4</td>\n",
       "      <td>(10:56) (Punt formation) B.Pinion punts 28 yar...</td>\n",
       "      <td>NaN</td>\n",
       "      <td>NaN</td>\n",
       "      <td>yes</td>\n",
       "    </tr>\n",
       "    <tr>\n",
       "      <th>34961</th>\n",
       "      <td>2017-12-10</td>\n",
       "      <td>Pass</td>\n",
       "      <td>61</td>\n",
       "      <td>3</td>\n",
       "      <td>(4:22) (Shotgun) J.Garoppolo pass short middle...</td>\n",
       "      <td>NaN</td>\n",
       "      <td>G.Celek</td>\n",
       "      <td>yes</td>\n",
       "    </tr>\n",
       "    <tr>\n",
       "      <th>4590</th>\n",
       "      <td>2017-09-17</td>\n",
       "      <td>Run</td>\n",
       "      <td>61</td>\n",
       "      <td>2</td>\n",
       "      <td>(3:54) C.Hyde left tackle to SEA 22 for 61 yar...</td>\n",
       "      <td>C.Hyde</td>\n",
       "      <td>NaN</td>\n",
       "      <td>no</td>\n",
       "    </tr>\n",
       "    <tr>\n",
       "      <th>32831</th>\n",
       "      <td>2017-12-03</td>\n",
       "      <td>Punt</td>\n",
       "      <td>61</td>\n",
       "      <td>2</td>\n",
       "      <td>(6:12) (Punt formation) B.Pinion punts 44 yard...</td>\n",
       "      <td>NaN</td>\n",
       "      <td>NaN</td>\n",
       "      <td>yes</td>\n",
       "    </tr>\n",
       "    <tr>\n",
       "      <th>5559</th>\n",
       "      <td>2017-09-21</td>\n",
       "      <td>Pass</td>\n",
       "      <td>59</td>\n",
       "      <td>4</td>\n",
       "      <td>(6:35) B.Hoyer pass deep left to P.Garcon to L...</td>\n",
       "      <td>NaN</td>\n",
       "      <td>P.Garcon</td>\n",
       "      <td>no</td>\n",
       "    </tr>\n",
       "    <tr>\n",
       "      <th>22566</th>\n",
       "      <td>2017-11-05</td>\n",
       "      <td>Pass</td>\n",
       "      <td>55</td>\n",
       "      <td>1</td>\n",
       "      <td>(1:38) C.Beathard pass deep right to M.Goodwin...</td>\n",
       "      <td>NaN</td>\n",
       "      <td>M.Goodwin</td>\n",
       "      <td>no</td>\n",
       "    </tr>\n",
       "    <tr>\n",
       "      <th>39076</th>\n",
       "      <td>2017-12-17</td>\n",
       "      <td>Pass</td>\n",
       "      <td>54</td>\n",
       "      <td>4</td>\n",
       "      <td>(6:28) J.Garoppolo pass short middle to K.Bour...</td>\n",
       "      <td>NaN</td>\n",
       "      <td>K.Bourne</td>\n",
       "      <td>yes</td>\n",
       "    </tr>\n",
       "    <tr>\n",
       "      <th>11814</th>\n",
       "      <td>2017-10-08</td>\n",
       "      <td>Pass</td>\n",
       "      <td>51</td>\n",
       "      <td>4</td>\n",
       "      <td>(9:22) (No Huddle) B.Hoyer pass deep middle to...</td>\n",
       "      <td>NaN</td>\n",
       "      <td>M.Goodwin</td>\n",
       "      <td>no</td>\n",
       "    </tr>\n",
       "    <tr>\n",
       "      <th>5531</th>\n",
       "      <td>2017-09-21</td>\n",
       "      <td>Pass</td>\n",
       "      <td>50</td>\n",
       "      <td>3</td>\n",
       "      <td>(:17) B.Hoyer pass deep middle to M.Goodwin to...</td>\n",
       "      <td>NaN</td>\n",
       "      <td>M.Goodwin</td>\n",
       "      <td>no</td>\n",
       "    </tr>\n",
       "  </tbody>\n",
       "</table>\n",
       "</div>"
      ],
      "text/plain": [
       "            Date PlayType  Yards.Gained  qtr  \\\n",
       "25449 2017-11-12     Pass            83    2   \n",
       "32892 2017-12-03     Punt            67    4   \n",
       "34961 2017-12-10     Pass            61    3   \n",
       "4590  2017-09-17      Run            61    2   \n",
       "32831 2017-12-03     Punt            61    2   \n",
       "5559  2017-09-21     Pass            59    4   \n",
       "22566 2017-11-05     Pass            55    1   \n",
       "39076 2017-12-17     Pass            54    4   \n",
       "11814 2017-10-08     Pass            51    4   \n",
       "5531  2017-09-21     Pass            50    3   \n",
       "\n",
       "                                                    desc  Rusher   Receiver  \\\n",
       "25449  (8:10) C.Beathard pass deep middle to M.Goodwi...     NaN  M.Goodwin   \n",
       "32892  (10:56) (Punt formation) B.Pinion punts 28 yar...     NaN        NaN   \n",
       "34961  (4:22) (Shotgun) J.Garoppolo pass short middle...     NaN    G.Celek   \n",
       "4590   (3:54) C.Hyde left tackle to SEA 22 for 61 yar...  C.Hyde        NaN   \n",
       "32831  (6:12) (Punt formation) B.Pinion punts 44 yard...     NaN        NaN   \n",
       "5559   (6:35) B.Hoyer pass deep left to P.Garcon to L...     NaN   P.Garcon   \n",
       "22566  (1:38) C.Beathard pass deep right to M.Goodwin...     NaN  M.Goodwin   \n",
       "39076  (6:28) J.Garoppolo pass short middle to K.Bour...     NaN   K.Bourne   \n",
       "11814  (9:22) (No Huddle) B.Hoyer pass deep middle to...     NaN  M.Goodwin   \n",
       "5531   (:17) B.Hoyer pass deep middle to M.Goodwin to...     NaN  M.Goodwin   \n",
       "\n",
       "      Jimmy  \n",
       "25449    no  \n",
       "32892   yes  \n",
       "34961   yes  \n",
       "4590     no  \n",
       "32831   yes  \n",
       "5559     no  \n",
       "22566    no  \n",
       "39076   yes  \n",
       "11814    no  \n",
       "5531     no  "
      ]
     },
     "execution_count": 23,
     "metadata": {},
     "output_type": "execute_result"
    }
   ],
   "source": [
    "# Take a look at 10 observations with the following fields\n",
    "most_yards[['Date','PlayType','Yards.Gained','qtr','desc','Rusher','Receiver', 'Jimmy']][:10]"
   ]
  },
  {
   "cell_type": "markdown",
   "metadata": {},
   "source": [
    "We notice that Goodwin was the receiver who was part of the plays resulting in the most yards last season."
   ]
  },
  {
   "cell_type": "code",
   "execution_count": 24,
   "metadata": {
    "collapsed": true
   },
   "outputs": [],
   "source": [
    "passes = most_yards[most_yards[\"PlayType\"] == 'Pass']"
   ]
  },
  {
   "cell_type": "code",
   "execution_count": 25,
   "metadata": {},
   "outputs": [
    {
     "data": {
      "image/png": "[encoded data removed]",
      "text/plain": [
       "<matplotlib.figure.Figure at 0x116838a10>"
      ]
     },
     "metadata": {},
     "output_type": "display_data"
    }
   ],
   "source": [
    "fig, ax = plt.subplots(figsize=(8, 6), dpi = 75)\n",
    "\n",
    "f1 = passes['Receiver'].value_counts().plot(kind='barh')\n",
    "f1.set(title = \"Players with the most Yards after receiving Passes\", xlabel='Count', ylabel='Player Name')\n",
    "\n",
    "plt.show()"
   ]
  },
  {
   "cell_type": "code",
   "execution_count": 26,
   "metadata": {
    "collapsed": true
   },
   "outputs": [],
   "source": [
    "runs = most_yards[most_yards['PlayType'] == 'Run']"
   ]
  },
  {
   "cell_type": "markdown",
   "metadata": {},
   "source": [
    "We can see that Breida and Hyde were part of the most successful runs by yards gained last season."
   ]
  },
  {
   "cell_type": "code",
   "execution_count": 27,
   "metadata": {},
   "outputs": [
    {
     "data": {
      "image/png": "[encoded data removed]",
      "text/plain": [
       "<matplotlib.figure.Figure at 0x116036090>"
      ]
     },
     "metadata": {},
     "output_type": "display_data"
    }
   ],
   "source": [
    "fig, ax = plt.subplots(figsize=(6, 5), dpi = 75)\n",
    "\n",
    "f1 = runs['Rusher'].value_counts().plot(kind='barh')\n",
    "f1.set(title = \"Players with the most Yards from Rushing\", xlabel='Count', ylabel='Player Name')\n",
    "\n",
    "plt.show()"
   ]
  },
  {
   "cell_type": "markdown",
   "metadata": {},
   "source": [
    "Conclusion"
   ]
  },
  {
   "cell_type": "markdown",
   "metadata": {},
   "source": [
    "I hope that you enjoyed this guide walking through some data analysis in Python using NFL data. Now you can go download the NFL data, play around with different information, and see what interesting things you find!\n",
    "\n",
    "Thank you for taking the time to read this post, and feel free to leave a comment or connect on LinkedIn."
   ]
  },
  {
   "cell_type": "markdown",
   "metadata": {},
   "source": [
    "References:\n",
    "\n",
    "1. Pandas Data Frame Documentation https://pandas.pydata.org/pandas-docs/stable/generated/pandas.DataFrame.html\n",
    "\n",
    "2. Pandas Plot Documentation https://pandas.pydata.org/pandas-docs/stable/generated/pandas.DataFrame.plot.html\n",
    "\n",
    "3. Matplotlib Documentation https://matplotlib.org/tutorials/introductory/sample_plots.html#sphx-glr-tutorials-introductory-sample-plots-py\n",
    "\n",
    "4. NFL ScrapeR https://github.com/maksimhorowitz/nflscrapR\n",
    "\n",
    "5. Personal Github Repository with this code notebook "
   ]
  },
  {
   "cell_type": "code",
   "execution_count": null,
   "metadata": {
    "collapsed": true
   },
   "outputs": [],
   "source": []
  }
 ],
 "metadata": {
  "kernelspec": {
   "display_name": "Python 2",
   "language": "python",
   "name": "python2"
  },
  "language_info": {
   "codemirror_mode": {
    "name": "ipython",
    "version": 2
   },
   "file_extension": ".py",
   "mimetype": "text/x-python",
   "name": "python",
   "nbconvert_exporter": "python",
   "pygments_lexer": "ipython2",
   "version": "2.7.13"
  }
 },
 "nbformat": 4,
 "nbformat_minor": 2
}
